{
 "cells": [
  {
   "cell_type": "code",
   "execution_count": 5,
   "metadata": {},
   "outputs": [],
   "source": [
    "import numpy as np"
   ]
  },
  {
   "cell_type": "markdown",
   "metadata": {},
   "source": [
    "#### 1) Create a vector of size 15 having third element (i.e. position 2) set to 1 and rest of the elements should be zero. "
   ]
  },
  {
   "cell_type": "code",
   "execution_count": 25,
   "metadata": {},
   "outputs": [
    {
     "data": {
      "text/plain": [
       "array([0, 0, 1, 0, 0, 0, 0, 0, 0, 0, 0, 0, 0, 0, 0])"
      ]
     },
     "execution_count": 25,
     "metadata": {},
     "output_type": "execute_result"
    }
   ],
   "source": [
    "v = np.array([0,0,1,0,0,0,0,0,0,0,0,0,0,0,0])\n",
    "v"
   ]
  },
  {
   "cell_type": "markdown",
   "metadata": {},
   "source": [
    "#### 2) Create a vector with values ranging from 21 to 30"
   ]
  },
  {
   "cell_type": "code",
   "execution_count": 24,
   "metadata": {
    "scrolled": true
   },
   "outputs": [
    {
     "data": {
      "text/plain": [
       "array([21, 22, 23, 24, 25, 26, 27, 28, 29, 30])"
      ]
     },
     "execution_count": 24,
     "metadata": {},
     "output_type": "execute_result"
    }
   ],
   "source": [
    "v2 = np.arange(21,31)\n",
    "v2"
   ]
  },
  {
   "cell_type": "markdown",
   "metadata": {},
   "source": [
    "#### 3) Reverse the order of elements in the vector in question 2. That is, the previous last element should be the first one now. "
   ]
  },
  {
   "cell_type": "code",
   "execution_count": 43,
   "metadata": {},
   "outputs": [
    {
     "data": {
      "text/plain": [
       "array([30, 29, 28, 27, 26, 25, 24, 23, 22, 21])"
      ]
     },
     "execution_count": 43,
     "metadata": {},
     "output_type": "execute_result"
    }
   ],
   "source": [
    "v2_rev = np.flip(v2)\n",
    "v2_rev"
   ]
  },
  {
   "cell_type": "markdown",
   "metadata": {},
   "source": [
    "#### 4) Define a vector with values ranging from 1 to 12. Now define a 4x3 matrix to store elements from the vector you have defined. That is, first 3 elements of the vector should be row 1 of the matrix, next 3 should be row 2, and so on. "
   ]
  },
  {
   "cell_type": "code",
   "execution_count": 44,
   "metadata": {},
   "outputs": [
    {
     "data": {
      "text/plain": [
       "array([[ 1,  2,  3],\n",
       "       [ 4,  5,  6],\n",
       "       [ 7,  8,  9],\n",
       "       [10, 11, 12]])"
      ]
     },
     "execution_count": 44,
     "metadata": {},
     "output_type": "execute_result"
    }
   ],
   "source": [
    "v3 = np.arange(1,13)\n",
    "m = v3.reshape(4,3)\n",
    "m"
   ]
  },
  {
   "cell_type": "markdown",
   "metadata": {},
   "source": [
    "#### 5) Consider the 4x3 matrix from question 4. Add 100 to all values that are greater than equal to 3 and less than equal to 8"
   ]
  },
  {
   "cell_type": "code",
   "execution_count": 57,
   "metadata": {},
   "outputs": [
    {
     "name": "stdout",
     "output_type": "stream",
     "text": [
      "[[  1   2 103]\n",
      " [104 105 106]\n",
      " [107 108   9]\n",
      " [ 10  11  12]]\n"
     ]
    }
   ],
   "source": [
    "m[np.logical_and((m >=3), (m<=8))] +=100\n",
    "print(m)"
   ]
  },
  {
   "cell_type": "markdown",
   "metadata": {},
   "source": [
    "#### 6) Consider the vector x = [1, 0, 6, 9, 10, 0]. Print the indices of non-zero elements. "
   ]
  },
  {
   "cell_type": "code",
   "execution_count": 55,
   "metadata": {},
   "outputs": [
    {
     "name": "stdout",
     "output_type": "stream",
     "text": [
      "[ 1  6  9 10]\n"
     ]
    }
   ],
   "source": [
    "x = np.array([1, 0, 6, 9, 10, 0])\n",
    "print(x[x!= 0])"
   ]
  },
  {
   "cell_type": "markdown",
   "metadata": {},
   "source": [
    "#### 7) Define a 6x3 matrix with random values. Normalize this matrix by subtracting the mean (of the column) and dividing by the standard deviation (of the column). "
   ]
  },
  {
   "cell_type": "code",
   "execution_count": 68,
   "metadata": {},
   "outputs": [
    {
     "name": "stdout",
     "output_type": "stream",
     "text": [
      "[[-0.42475358 -1.60456057  1.57437685]\n",
      " [ 0.02848694 -1.11027852  0.57325796]\n",
      " [-0.06745862  0.51422024  0.46944887]\n",
      " [-1.79417122  0.27623382 -0.30404653]\n",
      " [ 0.97708713  0.9746526  -1.47653098]\n",
      " [ 1.28080935  0.94973244 -0.83650618]]\n"
     ]
    }
   ],
   "source": [
    "#define matrix, mean and standard deviation\n",
    "r = np.random.random((6,3))\n",
    "mn = r.mean(axis = 0)\n",
    "sd = r.std(axis = 0)\n",
    "\n",
    "#subtract mean\n",
    "r2=np.subtract(r, mn)\n",
    "\n",
    "#divide by std dev\n",
    "r3 = np.divide(r2, sd) \n",
    "print(r3)\n"
   ]
  },
  {
   "cell_type": "markdown",
   "metadata": {},
   "source": [
    "#### 8) Define a 3x4 matrix with random values. Define a 4x3 matrix with random values. Multiply the two matrices. "
   ]
  },
  {
   "cell_type": "code",
   "execution_count": 69,
   "metadata": {},
   "outputs": [
    {
     "name": "stdout",
     "output_type": "stream",
     "text": [
      "[[1.70014698 0.36206776 1.5004683 ]\n",
      " [1.69020081 0.60152737 1.85263042]\n",
      " [1.79897238 0.62003211 1.88875628]]\n"
     ]
    }
   ],
   "source": [
    "a = np.random.random((3,4))\n",
    "b = np.random.random((4,3))\n",
    "print(np.dot(a,b))"
   ]
  },
  {
   "cell_type": "markdown",
   "metadata": {},
   "source": [
    "#### 9) Define a 3x3 identity matrix."
   ]
  },
  {
   "cell_type": "code",
   "execution_count": 70,
   "metadata": {},
   "outputs": [
    {
     "data": {
      "text/plain": [
       "array([[1., 0., 0.],\n",
       "       [0., 1., 0.],\n",
       "       [0., 0., 1.]])"
      ]
     },
     "execution_count": 70,
     "metadata": {},
     "output_type": "execute_result"
    }
   ],
   "source": [
    "i = np.eye(3,3)\n",
    "i"
   ]
  },
  {
   "cell_type": "markdown",
   "metadata": {},
   "source": [
    "#### 10) Define a 3x3 matrix A with random values. Invert the matrix A, let’s call this B. Multiply matrices A and B."
   ]
  },
  {
   "cell_type": "code",
   "execution_count": 74,
   "metadata": {},
   "outputs": [
    {
     "name": "stdout",
     "output_type": "stream",
     "text": [
      "[[0.90509991 0.96012887 0.2078148 ]\n",
      " [0.22606848 0.30376816 0.44136217]\n",
      " [0.54141262 0.12559956 0.58776245]]\n",
      "[[ 0.66544102 -2.90928291  1.94935713]\n",
      " [ 0.57342016  2.26736887 -1.90535486]\n",
      " [-0.73550035  2.19534604  0.31289031]]\n",
      "[[ 1.00000000e+00  1.66533454e-16 -6.93889390e-17]\n",
      " [-5.55111512e-17  1.00000000e+00 -2.77555756e-17]\n",
      " [-5.55111512e-17  2.22044605e-16  1.00000000e+00]]\n"
     ]
    }
   ],
   "source": [
    "A=np.random.random((3,3))\n",
    "print(A)\n",
    "B=np.linalg.inv(A)\n",
    "print(B)\n",
    "\n",
    "C =np.dot(A,B)\n",
    "print(C)\n"
   ]
  },
  {
   "cell_type": "code",
   "execution_count": null,
   "metadata": {},
   "outputs": [],
   "source": []
  }
 ],
 "metadata": {
  "celltoolbar": "Raw Cell Format",
  "kernelspec": {
   "display_name": "Python 3",
   "language": "python",
   "name": "python3"
  },
  "language_info": {
   "codemirror_mode": {
    "name": "ipython",
    "version": 3
   },
   "file_extension": ".py",
   "mimetype": "text/x-python",
   "name": "python",
   "nbconvert_exporter": "python",
   "pygments_lexer": "ipython3",
   "version": "3.7.3"
  }
 },
 "nbformat": 4,
 "nbformat_minor": 4
}
