{
 "cells": [
  {
   "cell_type": "markdown",
   "id": "0d96a09e",
   "metadata": {},
   "source": [
    "Write a program using Python Keras, MatLab, or any programming language of\n",
    "your choice to classify images into 3 classes (setosa, versicolor, virginica) using\n",
    "any pre-trained CNN listed on slide 7 to 9 (of the Xfer Learning slides). You can\n",
    "make any change to the pre-trained CNN, including no change at all."
   ]
  },
  {
   "cell_type": "code",
   "execution_count": 1,
   "id": "be3b6cd2",
   "metadata": {},
   "outputs": [
    {
     "name": "stdout",
     "output_type": "stream",
     "text": [
      "Model: \"vgg16\"\n",
      "_________________________________________________________________\n",
      "Layer (type)                 Output Shape              Param #   \n",
      "=================================================================\n",
      "input_1 (InputLayer)         [(None, 224, 224, 3)]     0         \n",
      "_________________________________________________________________\n",
      "block1_conv1 (Conv2D)        (None, 224, 224, 64)      1792      \n",
      "_________________________________________________________________\n",
      "block1_conv2 (Conv2D)        (None, 224, 224, 64)      36928     \n",
      "_________________________________________________________________\n",
      "block1_pool (MaxPooling2D)   (None, 112, 112, 64)      0         \n",
      "_________________________________________________________________\n",
      "block2_conv1 (Conv2D)        (None, 112, 112, 128)     73856     \n",
      "_________________________________________________________________\n",
      "block2_conv2 (Conv2D)        (None, 112, 112, 128)     147584    \n",
      "_________________________________________________________________\n",
      "block2_pool (MaxPooling2D)   (None, 56, 56, 128)       0         \n",
      "_________________________________________________________________\n",
      "block3_conv1 (Conv2D)        (None, 56, 56, 256)       295168    \n",
      "_________________________________________________________________\n",
      "block3_conv2 (Conv2D)        (None, 56, 56, 256)       590080    \n",
      "_________________________________________________________________\n",
      "block3_conv3 (Conv2D)        (None, 56, 56, 256)       590080    \n",
      "_________________________________________________________________\n",
      "block3_pool (MaxPooling2D)   (None, 28, 28, 256)       0         \n",
      "_________________________________________________________________\n",
      "block4_conv1 (Conv2D)        (None, 28, 28, 512)       1180160   \n",
      "_________________________________________________________________\n",
      "block4_conv2 (Conv2D)        (None, 28, 28, 512)       2359808   \n",
      "_________________________________________________________________\n",
      "block4_conv3 (Conv2D)        (None, 28, 28, 512)       2359808   \n",
      "_________________________________________________________________\n",
      "block4_pool (MaxPooling2D)   (None, 14, 14, 512)       0         \n",
      "_________________________________________________________________\n",
      "block5_conv1 (Conv2D)        (None, 14, 14, 512)       2359808   \n",
      "_________________________________________________________________\n",
      "block5_conv2 (Conv2D)        (None, 14, 14, 512)       2359808   \n",
      "_________________________________________________________________\n",
      "block5_conv3 (Conv2D)        (None, 14, 14, 512)       2359808   \n",
      "_________________________________________________________________\n",
      "block5_pool (MaxPooling2D)   (None, 7, 7, 512)         0         \n",
      "_________________________________________________________________\n",
      "flatten (Flatten)            (None, 25088)             0         \n",
      "_________________________________________________________________\n",
      "fc1 (Dense)                  (None, 4096)              102764544 \n",
      "_________________________________________________________________\n",
      "fc2 (Dense)                  (None, 4096)              16781312  \n",
      "_________________________________________________________________\n",
      "predictions (Dense)          (None, 1000)              4097000   \n",
      "=================================================================\n",
      "Total params: 138,357,544\n",
      "Trainable params: 138,357,544\n",
      "Non-trainable params: 0\n",
      "_________________________________________________________________\n"
     ]
    }
   ],
   "source": [
    "from keras.applications import VGG16\n",
    "vgg_conv = VGG16(weights=\"imagenet\", input_shape=(224,224,3))\n",
    "vgg_conv.summary()"
   ]
  },
  {
   "cell_type": "code",
   "execution_count": 22,
   "id": "8e11800c",
   "metadata": {},
   "outputs": [
    {
     "name": "stdout",
     "output_type": "stream",
     "text": [
      "Model: \"vgg16\"\n",
      "_________________________________________________________________\n",
      "Layer (type)                 Output Shape              Param #   \n",
      "=================================================================\n",
      "input_1 (InputLayer)         [(None, 224, 224, 3)]     0         \n",
      "_________________________________________________________________\n",
      "block1_conv1 (Conv2D)        (None, 224, 224, 64)      1792      \n",
      "_________________________________________________________________\n",
      "block1_conv2 (Conv2D)        (None, 224, 224, 64)      36928     \n",
      "_________________________________________________________________\n",
      "block1_pool (MaxPooling2D)   (None, 112, 112, 64)      0         \n",
      "_________________________________________________________________\n",
      "block2_conv1 (Conv2D)        (None, 112, 112, 128)     73856     \n",
      "_________________________________________________________________\n",
      "block2_conv2 (Conv2D)        (None, 112, 112, 128)     147584    \n",
      "_________________________________________________________________\n",
      "block2_pool (MaxPooling2D)   (None, 56, 56, 128)       0         \n",
      "_________________________________________________________________\n",
      "block3_conv1 (Conv2D)        (None, 56, 56, 256)       295168    \n",
      "_________________________________________________________________\n",
      "block3_conv2 (Conv2D)        (None, 56, 56, 256)       590080    \n",
      "_________________________________________________________________\n",
      "block3_conv3 (Conv2D)        (None, 56, 56, 256)       590080    \n",
      "_________________________________________________________________\n",
      "block3_pool (MaxPooling2D)   (None, 28, 28, 256)       0         \n",
      "_________________________________________________________________\n",
      "block4_conv1 (Conv2D)        (None, 28, 28, 512)       1180160   \n",
      "_________________________________________________________________\n",
      "block4_conv2 (Conv2D)        (None, 28, 28, 512)       2359808   \n",
      "_________________________________________________________________\n",
      "block4_conv3 (Conv2D)        (None, 28, 28, 512)       2359808   \n",
      "_________________________________________________________________\n",
      "block4_pool (MaxPooling2D)   (None, 14, 14, 512)       0         \n",
      "_________________________________________________________________\n",
      "block5_conv1 (Conv2D)        (None, 14, 14, 512)       2359808   \n",
      "_________________________________________________________________\n",
      "block5_conv2 (Conv2D)        (None, 14, 14, 512)       2359808   \n",
      "_________________________________________________________________\n",
      "block5_conv3 (Conv2D)        (None, 14, 14, 512)       2359808   \n",
      "_________________________________________________________________\n",
      "block5_pool (MaxPooling2D)   (None, 7, 7, 512)         0         \n",
      "_________________________________________________________________\n",
      "flatten (Flatten)            (None, 25088)             0         \n",
      "=================================================================\n",
      "Total params: 14,714,688\n",
      "Trainable params: 0\n",
      "Non-trainable params: 14,714,688\n",
      "_________________________________________________________________\n"
     ]
    }
   ],
   "source": [
    "vgg_conv._layers.pop() #predictions layer\n",
    "vgg_conv._layers.pop() #FC2 layer\n",
    "vgg_conv._layers.pop() #FC1 layer\n",
    "vgg_conv.summary()"
   ]
  },
  {
   "cell_type": "code",
   "execution_count": 41,
   "id": "40ea8852",
   "metadata": {},
   "outputs": [
    {
     "name": "stdout",
     "output_type": "stream",
     "text": [
      "Model: \"functional_7\"\n",
      "_________________________________________________________________\n",
      "Layer (type)                 Output Shape              Param #   \n",
      "=================================================================\n",
      "input_1 (InputLayer)         [(None, 224, 224, 3)]     0         \n",
      "_________________________________________________________________\n",
      "block1_conv1 (Conv2D)        (None, 224, 224, 64)      1792      \n",
      "_________________________________________________________________\n",
      "block1_conv2 (Conv2D)        (None, 224, 224, 64)      36928     \n",
      "_________________________________________________________________\n",
      "block1_pool (MaxPooling2D)   (None, 112, 112, 64)      0         \n",
      "_________________________________________________________________\n",
      "block2_conv1 (Conv2D)        (None, 112, 112, 128)     73856     \n",
      "_________________________________________________________________\n",
      "block2_conv2 (Conv2D)        (None, 112, 112, 128)     147584    \n",
      "_________________________________________________________________\n",
      "block2_pool (MaxPooling2D)   (None, 56, 56, 128)       0         \n",
      "_________________________________________________________________\n",
      "block3_conv1 (Conv2D)        (None, 56, 56, 256)       295168    \n",
      "_________________________________________________________________\n",
      "block3_conv2 (Conv2D)        (None, 56, 56, 256)       590080    \n",
      "_________________________________________________________________\n",
      "block3_conv3 (Conv2D)        (None, 56, 56, 256)       590080    \n",
      "_________________________________________________________________\n",
      "block3_pool (MaxPooling2D)   (None, 28, 28, 256)       0         \n",
      "_________________________________________________________________\n",
      "block4_conv1 (Conv2D)        (None, 28, 28, 512)       1180160   \n",
      "_________________________________________________________________\n",
      "block4_conv2 (Conv2D)        (None, 28, 28, 512)       2359808   \n",
      "_________________________________________________________________\n",
      "block4_conv3 (Conv2D)        (None, 28, 28, 512)       2359808   \n",
      "_________________________________________________________________\n",
      "block4_pool (MaxPooling2D)   (None, 14, 14, 512)       0         \n",
      "_________________________________________________________________\n",
      "block5_conv1 (Conv2D)        (None, 14, 14, 512)       2359808   \n",
      "_________________________________________________________________\n",
      "block5_conv2 (Conv2D)        (None, 14, 14, 512)       2359808   \n",
      "_________________________________________________________________\n",
      "block5_conv3 (Conv2D)        (None, 14, 14, 512)       2359808   \n",
      "_________________________________________________________________\n",
      "block5_pool (MaxPooling2D)   (None, 7, 7, 512)         0         \n",
      "_________________________________________________________________\n",
      "flatten (Flatten)            (None, 25088)             0         \n",
      "_________________________________________________________________\n",
      "New_Dense (Dense)            (None, 1024)              25691136  \n",
      "_________________________________________________________________\n",
      "New_Dense2 (Dense)           (None, 512)               524800    \n",
      "_________________________________________________________________\n",
      "New_Dense3 (Dense)           (None, 256)               131328    \n",
      "_________________________________________________________________\n",
      "New_Dense4 (Dense)           (None, 16)                4112      \n",
      "_________________________________________________________________\n",
      "New_pred (Dense)             (None, 3)                 51        \n",
      "=================================================================\n",
      "Total params: 41,066,115\n",
      "Trainable params: 26,351,427\n",
      "Non-trainable params: 14,714,688\n",
      "_________________________________________________________________\n"
     ]
    }
   ],
   "source": [
    "#add new FC layers\n",
    "from keras.layers import Flatten, Dense\n",
    "from keras.models import Model\n",
    "\n",
    "#last = vgg_conv.output   # pop wasnt working, common issue according to internet\n",
    "last = (vgg_conv.layers[-1].output) #remove layers this way\n",
    "x=Dense(1024, activation='relu',name='New_Dense')(last)\n",
    "v=Dense(512, activation='relu',name='New_Dense2')(x)\n",
    "l=Dense(256, activation='relu',name='New_Dense3')(v)\n",
    "m=Dense(16, activation='relu',name='New_Dense4')(l)\n",
    "prediction_layer=Dense(3,activation='softmax',name='New_pred')(m)\n",
    "\n",
    "model = Model(vgg_conv.input, prediction_layer)\n",
    "\n",
    "#freeze layers\n",
    "for layer in model.layers[:19]:\n",
    "    layer.trainable = False\n",
    "    \n",
    "# Compile model\n",
    "model.compile(optimizer = 'Adam',loss='categorical_crossentropy', metrics=['accuracy'])\n",
    "\n",
    "#Print the configurations of all the layers in the CNN\n",
    "#summarize layers\n",
    "model.summary()\n"
   ]
  },
  {
   "cell_type": "code",
   "execution_count": 42,
   "id": "8769df65",
   "metadata": {},
   "outputs": [
    {
     "name": "stdout",
     "output_type": "stream",
     "text": [
      "Found 105 images belonging to 3 classes.\n",
      "Found 45 images belonging to 3 classes.\n"
     ]
    }
   ],
   "source": [
    "#Load Training Images\n",
    "from keras.preprocessing.image import ImageDataGenerator\n",
    "\n",
    "data = ImageDataGenerator(rescale = 1./255, validation_split = 0.3)\n",
    "training_data = data.flow_from_directory('Iris_Imgs',target_size = (224, 224), batch_size = 10, \n",
    "                                         class_mode = 'categorical',shuffle=False, subset='training')\n",
    "test_data = data.flow_from_directory('Iris_Imgs',target_size = (224, 224), batch_size = 45,\n",
    "                                     class_mode = 'categorical',shuffle=False, subset='validation')\n",
    "\n"
   ]
  },
  {
   "cell_type": "code",
   "execution_count": 43,
   "id": "920383cb",
   "metadata": {},
   "outputs": [
    {
     "name": "stdout",
     "output_type": "stream",
     "text": [
      "WARNING:tensorflow:Your input ran out of data; interrupting training. Make sure that your dataset or generator can generate at least `steps_per_epoch * epochs` batches (in this case, 7500 batches). You may need to use the repeat() function when building your dataset.\n"
     ]
    },
    {
     "data": {
      "text/plain": [
       "<tensorflow.python.keras.callbacks.History at 0x1e90f61b608>"
      ]
     },
     "execution_count": 43,
     "metadata": {},
     "output_type": "execute_result"
    }
   ],
   "source": [
    "# Train\n",
    "model.fit_generator(training_data,steps_per_epoch=15,epochs=500,verbose=0)\n"
   ]
  },
  {
   "cell_type": "code",
   "execution_count": 44,
   "id": "3da0c73c",
   "metadata": {},
   "outputs": [],
   "source": [
    "#predict\n",
    "predicted_score = model.predict_generator(test_data) #probabilities\n",
    "predicted_label = predicted_score.argmax(axis=1)     #classes\n"
   ]
  },
  {
   "cell_type": "code",
   "execution_count": 45,
   "id": "4e0a02c8",
   "metadata": {},
   "outputs": [
    {
     "data": {
      "text/html": [
       "<div>\n",
       "<style scoped>\n",
       "    .dataframe tbody tr th:only-of-type {\n",
       "        vertical-align: middle;\n",
       "    }\n",
       "\n",
       "    .dataframe tbody tr th {\n",
       "        vertical-align: top;\n",
       "    }\n",
       "\n",
       "    .dataframe thead th {\n",
       "        text-align: right;\n",
       "    }\n",
       "</style>\n",
       "<table border=\"1\" class=\"dataframe\">\n",
       "  <thead>\n",
       "    <tr style=\"text-align: right;\">\n",
       "      <th></th>\n",
       "      <th>setosa</th>\n",
       "      <th>versicolor</th>\n",
       "      <th>virginica</th>\n",
       "      <th>filename</th>\n",
       "      <th>actual</th>\n",
       "      <th>predicted</th>\n",
       "    </tr>\n",
       "  </thead>\n",
       "  <tbody>\n",
       "    <tr>\n",
       "      <th>0</th>\n",
       "      <td>0.917187</td>\n",
       "      <td>0.001122</td>\n",
       "      <td>0.081691</td>\n",
       "      <td>setosa\\Img_1.jpg</td>\n",
       "      <td>setosa</td>\n",
       "      <td>setosa</td>\n",
       "    </tr>\n",
       "    <tr>\n",
       "      <th>1</th>\n",
       "      <td>0.883198</td>\n",
       "      <td>0.001986</td>\n",
       "      <td>0.114816</td>\n",
       "      <td>setosa\\Img_10.jpg</td>\n",
       "      <td>setosa</td>\n",
       "      <td>setosa</td>\n",
       "    </tr>\n",
       "    <tr>\n",
       "      <th>2</th>\n",
       "      <td>0.932280</td>\n",
       "      <td>0.001031</td>\n",
       "      <td>0.066688</td>\n",
       "      <td>setosa\\Img_11.jpg</td>\n",
       "      <td>setosa</td>\n",
       "      <td>setosa</td>\n",
       "    </tr>\n",
       "    <tr>\n",
       "      <th>3</th>\n",
       "      <td>0.909286</td>\n",
       "      <td>0.001210</td>\n",
       "      <td>0.089504</td>\n",
       "      <td>setosa\\Img_12.jpg</td>\n",
       "      <td>setosa</td>\n",
       "      <td>setosa</td>\n",
       "    </tr>\n",
       "    <tr>\n",
       "      <th>4</th>\n",
       "      <td>0.881244</td>\n",
       "      <td>0.002086</td>\n",
       "      <td>0.116670</td>\n",
       "      <td>setosa\\Img_13.jpg</td>\n",
       "      <td>setosa</td>\n",
       "      <td>setosa</td>\n",
       "    </tr>\n",
       "  </tbody>\n",
       "</table>\n",
       "</div>"
      ],
      "text/plain": [
       "     setosa  versicolor  virginica           filename  actual predicted\n",
       "0  0.917187    0.001122   0.081691   setosa\\Img_1.jpg  setosa    setosa\n",
       "1  0.883198    0.001986   0.114816  setosa\\Img_10.jpg  setosa    setosa\n",
       "2  0.932280    0.001031   0.066688  setosa\\Img_11.jpg  setosa    setosa\n",
       "3  0.909286    0.001210   0.089504  setosa\\Img_12.jpg  setosa    setosa\n",
       "4  0.881244    0.002086   0.116670  setosa\\Img_13.jpg  setosa    setosa"
      ]
     },
     "execution_count": 45,
     "metadata": {},
     "output_type": "execute_result"
    }
   ],
   "source": [
    "import pandas as pd\n",
    "import os\n",
    "preds = pd.DataFrame(predicted_score, columns = test_data.class_indices.keys())\n",
    "preds['filename'] = test_data.filenames\n",
    "preds['actual'] = preds['filename'].apply(os.path.dirname)\n",
    "preds['predicted'] = preds[list(test_data.class_indices.keys())].idxmax(1)\n",
    "preds.head()"
   ]
  },
  {
   "cell_type": "code",
   "execution_count": 46,
   "id": "350d53b3",
   "metadata": {},
   "outputs": [
    {
     "name": "stdout",
     "output_type": "stream",
     "text": [
      "\n",
      "Test data loss = 2.7382  accuracy = 33.33%\n",
      "\n",
      " Confusion Matrix \n",
      " [[15  0  0]\n",
      " [15  0  0]\n",
      " [15  0  0]]\n"
     ]
    }
   ],
   "source": [
    "#Print the confusion matrix of your classification result, and what is the accuracy of classification result? \n",
    "\n",
    "from sklearn.metrics import confusion_matrix\n",
    "## evaluate the model\n",
    "scores = model.evaluate_generator(test_data)\n",
    "print(\"\\nTest data loss = %0.4f  accuracy = %0.2f%%\" % (scores[0], scores[1]*100) )\n",
    "\n",
    "print('\\n Confusion Matrix \\n',confusion_matrix(test_data.classes, predicted_label))"
   ]
  },
  {
   "cell_type": "code",
   "execution_count": 47,
   "id": "6ae9675c",
   "metadata": {},
   "outputs": [
    {
     "name": "stdout",
     "output_type": "stream",
     "text": [
      "[0 0 0 0 0 0 0 0 0 0 0 0 0 0 0 1 1 1 1 1 1 1 1 1 1 1 1 1 1 1 2 2 2 2 2 2 2\n",
      " 2 2 2 2 2 2 2 2]\n",
      "[0 0 0 0 0 0 0 0 0 0 0 0 0 0 0 0 0 0 0 0 0 0 0 0 0 0 0 0 0 0 0 0 0 0 0 0 0\n",
      " 0 0 0 0 0 0 0 0]\n"
     ]
    }
   ],
   "source": [
    "print(test_data.classes)\n",
    "print(predicted_label)"
   ]
  },
  {
   "cell_type": "code",
   "execution_count": 48,
   "id": "9122dd33",
   "metadata": {},
   "outputs": [
    {
     "name": "stdout",
     "output_type": "stream",
     "text": [
      "              precision    recall  f1-score   support\n",
      "\n",
      "      setosa       0.33      1.00      0.50        15\n",
      "  versicolor       0.00      0.00      0.00        15\n",
      "   virginica       0.00      0.00      0.00        15\n",
      "\n",
      "    accuracy                           0.33        45\n",
      "   macro avg       0.11      0.33      0.17        45\n",
      "weighted avg       0.11      0.33      0.17        45\n",
      "\n"
     ]
    },
    {
     "name": "stderr",
     "output_type": "stream",
     "text": [
      "C:\\Users\\Jess\\anaconda3\\lib\\site-packages\\sklearn\\metrics\\_classification.py:1245: UndefinedMetricWarning: Precision and F-score are ill-defined and being set to 0.0 in labels with no predicted samples. Use `zero_division` parameter to control this behavior.\n",
      "  _warn_prf(average, modifier, msg_start, len(result))\n",
      "C:\\Users\\Jess\\anaconda3\\lib\\site-packages\\sklearn\\metrics\\_classification.py:1245: UndefinedMetricWarning: Precision and F-score are ill-defined and being set to 0.0 in labels with no predicted samples. Use `zero_division` parameter to control this behavior.\n",
      "  _warn_prf(average, modifier, msg_start, len(result))\n",
      "C:\\Users\\Jess\\anaconda3\\lib\\site-packages\\sklearn\\metrics\\_classification.py:1245: UndefinedMetricWarning: Precision and F-score are ill-defined and being set to 0.0 in labels with no predicted samples. Use `zero_division` parameter to control this behavior.\n",
      "  _warn_prf(average, modifier, msg_start, len(result))\n"
     ]
    }
   ],
   "source": [
    "#precision, recall, F-score for each class\n",
    "from sklearn.metrics import classification_report\n",
    "\n",
    "target_names = ['setosa', 'versicolor', 'virginica']\n",
    "#classification_report(y_true, y_pred)\n",
    "print(classification_report(test_data.classes,predicted_label, target_names=target_names))"
   ]
  },
  {
   "cell_type": "code",
   "execution_count": 49,
   "id": "7bde2abe",
   "metadata": {},
   "outputs": [
    {
     "name": "stdout",
     "output_type": "stream",
     "text": [
      "setosa AUC: 0.977778\n",
      "versicolor AUC: 0.784444\n",
      "virginica AUC: 0.993333\n",
      "Overall AUC: 0.931852\n"
     ]
    },
    {
     "name": "stderr",
     "output_type": "stream",
     "text": [
      "C:\\Users\\Jess\\anaconda3\\lib\\site-packages\\ipykernel_launcher.py:30: DeprecationWarning: scipy.interp is deprecated and will be removed in SciPy 2.0.0, use numpy.interp instead\n"
     ]
    },
    {
     "data": {
      "image/png": "[encoded data removed]",
      "text/plain": [
       "<Figure size 432x288 with 1 Axes>"
      ]
     },
     "metadata": {
      "needs_background": "light"
     },
     "output_type": "display_data"
    }
   ],
   "source": [
    "#Create a ROC Curve for each class\n",
    "\n",
    "#Code from:  https://www.rkingdc.com/blog/machine-learning-on-a-real-problem-3\n",
    "import matplotlib.pyplot as plt\n",
    "from sklearn.metrics import roc_curve,roc_auc_score, auc\n",
    "import numpy as np\n",
    "from scipy import interp\n",
    "\n",
    "def get_actual(df, class_label):\n",
    "    y_actual = df['actual'] == class_label\n",
    "    return y_actual.astype(int).values, df[class_label].values\n",
    "\n",
    "n_classes = len(test_data.class_indices)\n",
    "classes = test_data.class_indices.keys()\n",
    "lw=2\n",
    "fpr = dict()\n",
    "tpr = dict()\n",
    "roc_auc = dict()\n",
    "\n",
    "for k,i in test_data.class_indices.items():\n",
    "    t, p = get_actual(preds, k)\n",
    "    fpr[i], tpr[i], _ = roc_curve(t, p)\n",
    "    roc_auc[i] = auc(fpr[i], tpr[i])\n",
    "    \n",
    "all_fpr = np.unique(np.concatenate([fpr[i] for i in range(n_classes)]))\n",
    "\n",
    "# Then interpolate all ROC curves at these points\n",
    "mean_tpr = np.zeros_like(all_fpr)\n",
    "for i in range(n_classes):\n",
    "    mean_tpr += interp(all_fpr, fpr[i], tpr[i])\n",
    "\n",
    "# average it and compute AUC\n",
    "mean_tpr /= n_classes\n",
    "\n",
    "fpr[\"overall\"] = all_fpr\n",
    "tpr[\"overall\"] = mean_tpr\n",
    "roc_auc[\"overall\"] = auc(fpr[\"overall\"], tpr[\"overall\"])\n",
    "\n",
    "\n",
    "#Compute ROC curve and ROC area for each class\n",
    "print_auc = (lambda x,v: print('{v} AUC: {x:.6f}'.format(v=v, x=x)))\n",
    "for k,v in test_data.class_indices.items():\n",
    "    print_auc(roc_auc[v], k)\n",
    "print_auc(roc_auc['overall'], \"Overall\")\n",
    "\n",
    "\n",
    "#Plot\n",
    "import matplotlib.pyplot as plt\n",
    "plt.plot(fpr[0], tpr[0], color='green', lw=4, ls=\"dotted\", alpha=.5)\n",
    "plt.plot(fpr[1], tpr[1], color='blue', lw=4,ls=\"dotted\", alpha=.5)\n",
    "plt.plot(fpr[2], tpr[2], color='red', lw=4,ls=\"dotted\", alpha=.5)\n",
    "\n",
    "plt.plot([0, 1], [0, 1], color='black', lw=2, linestyle='--', alpha=.5)\n",
    "plt.xlim([0.0, 1.0])\n",
    "plt.ylim([0.0, 1.05])\n",
    "\n",
    "plt.xlabel('False Positive Rate')\n",
    "plt.ylabel('True Positive Rate')\n",
    "plt.title('Receiver Operating Characteristic Curves')\n",
    "plt.show()"
   ]
  },
  {
   "cell_type": "code",
   "execution_count": null,
   "id": "d3ae98c6",
   "metadata": {},
   "outputs": [],
   "source": []
  }
 ],
 "metadata": {
  "kernelspec": {
   "display_name": "Python 3",
   "language": "python",
   "name": "python3"
  },
  "language_info": {
   "codemirror_mode": {
    "name": "ipython",
    "version": 3
   },
   "file_extension": ".py",
   "mimetype": "text/x-python",
   "name": "python",
   "nbconvert_exporter": "python",
   "pygments_lexer": "ipython3",
   "version": "3.6.13"
  }
 },
 "nbformat": 4,
 "nbformat_minor": 5
}
