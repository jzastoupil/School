{
 "cells": [
  {
   "cell_type": "code",
   "execution_count": 1,
   "id": "bright-bhutan",
   "metadata": {},
   "outputs": [
    {
     "name": "stderr",
     "output_type": "stream",
     "text": [
      "Using TensorFlow backend.\n"
     ]
    },
    {
     "name": "stdout",
     "output_type": "stream",
     "text": [
      "Found 120 images belonging to 3 classes.\n",
      "Found 30 images belonging to 3 classes.\n"
     ]
    }
   ],
   "source": [
    "#Write a program using Python Keras, MatLab, or any programming \n",
    "#language of your choice to classify images into 3 classes (setosa, versicolor, virginica) \n",
    "#using CNN with at least TWO convolution layers.\n",
    "import tensorflow as tf\n",
    "from tensorflow import keras\n",
    "from tensorflow.keras.models import Model, Sequential\n",
    "from tensorflow.keras.layers import Input, Dense, Dropout, Activation, Flatten, BatchNormalization,ZeroPadding2D\n",
    "from tensorflow.keras.layers import MaxPooling2D\n",
    "from tensorflow.keras.layers import Conv2D\n",
    "from keras.preprocessing.image import ImageDataGenerator\n",
    "\n",
    "#Load Images - image is 200x200 pixels\n",
    "data = ImageDataGenerator(rescale = 1./255, validation_split = 0.2)\n",
    "training_data = data.flow_from_directory('Iris_Imgs',target_size = (200, 200), batch_size = 10, \n",
    "                                         class_mode = 'categorical',shuffle=False, subset='training')\n",
    "test_data = data.flow_from_directory('Iris_Imgs',target_size = (200, 200), batch_size = 30,\n",
    "                                     class_mode = 'categorical',shuffle=False, subset='validation')"
   ]
  },
  {
   "cell_type": "code",
   "execution_count": 2,
   "id": "inside-volunteer",
   "metadata": {},
   "outputs": [
    {
     "name": "stdout",
     "output_type": "stream",
     "text": [
      "WARNING:tensorflow:From <ipython-input-2-0136afb4a445>:31: Model.fit_generator (from tensorflow.python.keras.engine.training) is deprecated and will be removed in a future version.\n",
      "Instructions for updating:\n",
      "Please use Model.fit, which supports generators.\n",
      "Model: \"sequential\"\n",
      "_________________________________________________________________\n",
      "Layer (type)                 Output Shape              Param #   \n",
      "=================================================================\n",
      "zero_padding2d (ZeroPadding2 multiple                  0         \n",
      "_________________________________________________________________\n",
      "conv2d (Conv2D)              multiple                  896       \n",
      "_________________________________________________________________\n",
      "batch_normalization (BatchNo multiple                  128       \n",
      "_________________________________________________________________\n",
      "activation (Activation)      multiple                  0         \n",
      "_________________________________________________________________\n",
      "max_pooling2d (MaxPooling2D) multiple                  0         \n",
      "_________________________________________________________________\n",
      "conv2d_1 (Conv2D)            multiple                  18496     \n",
      "_________________________________________________________________\n",
      "batch_normalization_1 (Batch multiple                  256       \n",
      "_________________________________________________________________\n",
      "activation_1 (Activation)    multiple                  0         \n",
      "_________________________________________________________________\n",
      "max_pooling2d_1 (MaxPooling2 multiple                  0         \n",
      "_________________________________________________________________\n",
      "dropout (Dropout)            multiple                  0         \n",
      "_________________________________________________________________\n",
      "flatten (Flatten)            multiple                  0         \n",
      "_________________________________________________________________\n",
      "dense (Dense)                multiple                  8388736   \n",
      "_________________________________________________________________\n",
      "dense_1 (Dense)              multiple                  33024     \n",
      "_________________________________________________________________\n",
      "dense_2 (Dense)              multiple                  771       \n",
      "=================================================================\n",
      "Total params: 8,442,307\n",
      "Trainable params: 8,442,115\n",
      "Non-trainable params: 192\n",
      "_________________________________________________________________\n"
     ]
    }
   ],
   "source": [
    "#Create Model\n",
    "model = Sequential()\n",
    "\n",
    "#add a 2D convolutional layer to process the  input images\n",
    "model.add(ZeroPadding2D((2,2)))\n",
    "model.add(Conv2D(32, (3,3), input_shape=(200,200,3)))\n",
    "model.add(BatchNormalization())\n",
    "model.add(Activation('relu'))\n",
    "model.add(MaxPooling2D(pool_size=(3,3)))\n",
    "\n",
    "model.add(Conv2D(64, (3,3)))\n",
    "model.add(BatchNormalization())\n",
    "model.add(Activation('relu'))\n",
    "model.add(MaxPooling2D(pool_size=(2,2)))\n",
    "\n",
    "model.add(Dropout(0.2))\n",
    "\n",
    "#converts 2D feature maps to 1D vector for the FC layers\n",
    "model.add(Flatten())\n",
    "model.add(Dense(128, activation = 'relu'))\n",
    "model.add(Dense(256, activation = 'relu'))\n",
    "#output layer -3 classes\n",
    "model.add(Dense(3, activation='softmax'))\n",
    "\n",
    "# Compile model\n",
    "model.compile(optimizer = 'Adam',loss='categorical_crossentropy', metrics=['accuracy'])\n",
    "\n",
    "# Training\n",
    "model.fit_generator(training_data,steps_per_epoch=10,epochs=100,verbose=0)\n",
    "          \n",
    "#Print the configurations (i.e. architecture) of all the layers in your CNN.\n",
    "# summarize layers\n",
    "model.summary()"
   ]
  },
  {
   "cell_type": "code",
   "execution_count": 6,
   "id": "prescribed-grass",
   "metadata": {},
   "outputs": [
    {
     "name": "stdout",
     "output_type": "stream",
     "text": [
      "WARNING:tensorflow:sample_weight modes were coerced from\n",
      "  ...\n",
      "    to  \n",
      "  ['...']\n",
      "\n",
      "Test data loss = 5.8998  accuracy = 53.33%\n",
      "\n",
      " Confusion Matrix \n",
      " [[6 4 0]\n",
      " [0 9 1]\n",
      " [0 9 1]]\n"
     ]
    }
   ],
   "source": [
    "#Print the confusion matrix of your classification result, and what is the accuracy of classification result?\n",
    "from sklearn.metrics import confusion_matrix\n",
    "## predict\n",
    "predicted_score = model.predict_generator(test_data)\n",
    "predicted_label = predicted_score.argmax(axis=1)\n",
    "\n",
    "## evaluate the model\n",
    "scores = model.evaluate_generator(test_data)\n",
    "print(\"\\nTest data loss = %0.4f  accuracy = %0.2f%%\" % (scores[0], scores[1]*100) )\n",
    "\n",
    "print('\\n Confusion Matrix \\n',confusion_matrix(test_data.classes, predicted_label))\n"
   ]
  },
  {
   "cell_type": "code",
   "execution_count": null,
   "id": "foster-florida",
   "metadata": {},
   "outputs": [],
   "source": []
  }
 ],
 "metadata": {
  "kernelspec": {
   "display_name": "Python 3",
   "language": "python",
   "name": "python3"
  },
  "language_info": {
   "codemirror_mode": {
    "name": "ipython",
    "version": 3
   },
   "file_extension": ".py",
   "mimetype": "text/x-python",
   "name": "python",
   "nbconvert_exporter": "python",
   "pygments_lexer": "ipython3",
   "version": "3.6.12"
  }
 },
 "nbformat": 4,
 "nbformat_minor": 5
}
