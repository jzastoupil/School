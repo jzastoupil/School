{
  "nbformat": 4,
  "nbformat_minor": 5,
  "metadata": {
    "kernelspec": {
      "display_name": "Python 3",
      "language": "python",
      "name": "python3"
    },
    "language_info": {
      "codemirror_mode": {
        "name": "ipython",
        "version": 3
      },
      "file_extension": ".py",
      "mimetype": "text/x-python",
      "name": "python",
      "nbconvert_exporter": "python",
      "pygments_lexer": "ipython3",
      "version": "3.6.13"
    },
    "colab": {
      "name": "a8.ipynb",
      "provenance": [],
      "collapsed_sections": []
    }
  },
  "cells": [
    {
      "cell_type": "markdown",
      "metadata": {
        "id": "edb0f921"
      },
      "source": [
        "Use LSTM/GRU to predict alphabets using at least one experiment option"
      ],
      "id": "edb0f921"
    },
    {
      "cell_type": "code",
      "metadata": {
        "id": "08dec760"
      },
      "source": [
        "from keras.models import Sequential\n",
        "from keras.layers import Dense, LSTM\n",
        "import keras\n",
        "import numpy as np\n",
        "from numpy import array\n",
        "from keras.utils import np_utils\n",
        "import time, datetime\n",
        "\n",
        "seq_length = 3\n",
        "var = 1"
      ],
      "id": "08dec760",
      "execution_count": 1,
      "outputs": []
    },
    {
      "cell_type": "code",
      "metadata": {
        "id": "59edeac9"
      },
      "source": [
        "# create alphabet string\n",
        "alphabet = \"ABCDEFGHIJKLMNOPQRSTUVWXYZ\"\n",
        "\n",
        "# map alphabet characters to integers and integers to characters\n",
        "alphaint = dict((c, i) for i, c in enumerate(alphabet))\n",
        "intalpha = dict((i, c) for i, c in enumerate(alphabet))"
      ],
      "id": "59edeac9",
      "execution_count": 2,
      "outputs": []
    },
    {
      "cell_type": "code",
      "metadata": {
        "id": "daaab3f6",
        "colab": {
          "base_uri": "https://localhost:8080/",
          "height": 0
        },
        "outputId": "fd0b21de-33d1-4bc8-a5ba-b95e1a8488ee"
      },
      "source": [
        "# prepare the dataset for X and y encoded as integers\n",
        "X_List = []\n",
        "Y_List = []\n",
        "for i in range(0, len(alphabet) - seq_length, 1):\n",
        "\tseq_in = alphabet[i:i + seq_length]\n",
        "\tseq_out = alphabet[i + seq_length]\n",
        "\tX_List.append([alphaint[j] for j in seq_in])\n",
        "\tY_List.append(alphaint[seq_out])\n",
        "\n",
        "print(X_List)\n",
        "print(Y_List)"
      ],
      "id": "daaab3f6",
      "execution_count": 3,
      "outputs": [
        {
          "output_type": "stream",
          "text": [
            "[[0, 1, 2], [1, 2, 3], [2, 3, 4], [3, 4, 5], [4, 5, 6], [5, 6, 7], [6, 7, 8], [7, 8, 9], [8, 9, 10], [9, 10, 11], [10, 11, 12], [11, 12, 13], [12, 13, 14], [13, 14, 15], [14, 15, 16], [15, 16, 17], [16, 17, 18], [17, 18, 19], [18, 19, 20], [19, 20, 21], [20, 21, 22], [21, 22, 23], [22, 23, 24]]\n",
            "[3, 4, 5, 6, 7, 8, 9, 10, 11, 12, 13, 14, 15, 16, 17, 18, 19, 20, 21, 22, 23, 24, 25]\n"
          ],
          "name": "stdout"
        }
      ]
    },
    {
      "cell_type": "code",
      "metadata": {
        "id": "f69c0390"
      },
      "source": [
        "# reshape X\n",
        "X = np.reshape(X_List, (len(X_List), seq_length, var))\n",
        "# normalize\n",
        "X = X / float(len(alphabet))\n",
        "# one hot encode y\n",
        "y = np_utils.to_categorical(Y_List)"
      ],
      "id": "f69c0390",
      "execution_count": 4,
      "outputs": []
    },
    {
      "cell_type": "markdown",
      "metadata": {
        "id": "iYnSRWTd89Fk"
      },
      "source": [
        "# Experiment 1"
      ],
      "id": "iYnSRWTd89Fk"
    },
    {
      "cell_type": "code",
      "metadata": {
        "colab": {
          "base_uri": "https://localhost:8080/",
          "height": 0
        },
        "id": "06f7c006",
        "outputId": "30f13ede-35c0-40c8-f9cf-bb392b7dfdcc"
      },
      "source": [
        "# create and fit the model\n",
        "model = Sequential()\n",
        "model.add(LSTM(32, input_shape=(X.shape[1], X.shape[2])))\n",
        "model.add(Dense(y.shape[1], activation='softmax'))\n",
        "\n",
        "start_time = datetime.datetime.now()\n",
        "model.compile(loss='categorical_crossentropy', optimizer='adam', metrics=['accuracy'])\n",
        "model.fit(X, y, epochs=500, batch_size=1, verbose=0)\n",
        "end_time = datetime.datetime.now()\n",
        "\n",
        "# accuracy\n",
        "scores = model.evaluate(X, y, verbose=0)\n",
        "print(\"Training Accuracy: %.2f%%\" % (scores[1]*100))\n",
        "\n",
        "# training time\n",
        "diff = end_time - start_time\n",
        "diff_seconds = int(diff.total_seconds())\n",
        "minute_seconds, seconds = divmod(diff_seconds, 60)\n",
        "hours, minutes = divmod(minute_seconds, 60)\n",
        "print(f\"{hours}h {minutes}m {seconds}s\")"
      ],
      "id": "06f7c006",
      "execution_count": 5,
      "outputs": [
        {
          "output_type": "stream",
          "text": [
            "Training Accuracy: 100.00%\n",
            "0h 0m 19s\n"
          ],
          "name": "stdout"
        }
      ]
    },
    {
      "cell_type": "code",
      "metadata": {
        "colab": {
          "base_uri": "https://localhost:8080/",
          "height": 0
        },
        "id": "fC-8ADWlcrYs",
        "outputId": "982eed82-9b68-4e77-ef8a-7e8ef3267d01"
      },
      "source": [
        "# predict (automated)\n",
        "for arr in X_List:\n",
        "\tx = np.reshape(arr, (1, len(arr), 1))\n",
        "\tx = x / float(len(alphabet))\n",
        "\tprediction = model.predict(x, verbose=0)\n",
        "\tindex = np.argmax(prediction)\n",
        "\tresult = intalpha[index]\n",
        "\tseq_in = [intalpha[value] for value in arr]\n",
        "\tprint(seq_in, \"->\", result)"
      ],
      "id": "fC-8ADWlcrYs",
      "execution_count": 6,
      "outputs": [
        {
          "output_type": "stream",
          "text": [
            "['A', 'B', 'C'] -> D\n",
            "['B', 'C', 'D'] -> E\n",
            "['C', 'D', 'E'] -> F\n",
            "['D', 'E', 'F'] -> G\n",
            "['E', 'F', 'G'] -> H\n",
            "['F', 'G', 'H'] -> I\n",
            "['G', 'H', 'I'] -> J\n",
            "['H', 'I', 'J'] -> K\n",
            "['I', 'J', 'K'] -> L\n",
            "['J', 'K', 'L'] -> M\n",
            "['K', 'L', 'M'] -> N\n",
            "['L', 'M', 'N'] -> O\n",
            "['M', 'N', 'O'] -> P\n",
            "['N', 'O', 'P'] -> Q\n",
            "['O', 'P', 'Q'] -> R\n",
            "['P', 'Q', 'R'] -> S\n",
            "['Q', 'R', 'S'] -> T\n",
            "['R', 'S', 'T'] -> U\n",
            "['S', 'T', 'U'] -> V\n",
            "['T', 'U', 'V'] -> W\n",
            "['U', 'V', 'W'] -> X\n",
            "['V', 'W', 'X'] -> Y\n",
            "['W', 'X', 'Y'] -> Z\n"
          ],
          "name": "stdout"
        }
      ]
    },
    {
      "cell_type": "code",
      "metadata": {
        "colab": {
          "base_uri": "https://localhost:8080/",
          "height": 0
        },
        "id": "fe22bbba",
        "outputId": "73d4eed1-557d-4471-b0a5-837b2abd156b"
      },
      "source": [
        "#predict (manual entry)\n",
        "dataentry = input('Enter three letters: ')\n",
        "#create array\n",
        "arr = list(dataentry)\n",
        "\n",
        "#lookup index (convert character to int)\n",
        "ind = [alphaint[value] for value in arr]\n",
        "\n",
        "#reshape\n",
        "x = np.reshape(x, (1, seq_length, 1))\n",
        "x = x / float(len(alphabet))\n",
        "\n",
        "#predict\n",
        "prediction = model.predict(x, verbose=0)\n",
        "index = np.argmax(prediction)\n",
        "result = intalpha[index]\n",
        "#convert int to character\n",
        "seq_in = [intalpha[value] for value in ind]\n",
        "print(seq_in, \"->\", result)\n"
      ],
      "id": "fe22bbba",
      "execution_count": 7,
      "outputs": [
        {
          "output_type": "stream",
          "text": [
            "Enter three letters: EFG\n",
            "['E', 'F', 'G'] -> H\n"
          ],
          "name": "stdout"
        }
      ]
    },
    {
      "cell_type": "markdown",
      "metadata": {
        "id": "9uFH7xRs81uU"
      },
      "source": [
        "# Experiment 2"
      ],
      "id": "9uFH7xRs81uU"
    },
    {
      "cell_type": "code",
      "metadata": {
        "colab": {
          "base_uri": "https://localhost:8080/",
          "height": 0
        },
        "id": "j47nK8fA8vl4",
        "outputId": "0b4139ed-501e-4fa0-9d70-3f81b0749759"
      },
      "source": [
        "# create and fit the model\n",
        "model2 = Sequential()\n",
        "model2.add(LSTM(16, input_shape=(X.shape[1], X.shape[2])))\n",
        "model2.add(Dense(y.shape[1], activation='softmax'))\n",
        "\n",
        "start_time2 = datetime.datetime.now()\n",
        "model2.compile(loss='categorical_crossentropy', optimizer='adam', metrics=['accuracy'])\n",
        "model2.fit(X, y, epochs=500, batch_size=1, verbose=0)\n",
        "end_time2 = datetime.datetime.now()\n",
        "\n",
        "# accuracy\n",
        "scores2 = model2.evaluate(X, y, verbose=0)\n",
        "print(\"Training Accuracy: %.2f%%\" % (scores2[1]*100))\n",
        "\n",
        "# training time\n",
        "diff2 = end_time2 - start_time2\n",
        "diff_seconds2 = int(diff2.total_seconds())\n",
        "minute_seconds2, seconds2 = divmod(diff_seconds2, 60)\n",
        "hours2, minutes2 = divmod(minute_seconds2, 60)\n",
        "print(f\"{hours2}h {minutes2}m {seconds2}s\")"
      ],
      "id": "j47nK8fA8vl4",
      "execution_count": 8,
      "outputs": [
        {
          "output_type": "stream",
          "text": [
            "Training Accuracy: 91.30%\n",
            "0h 0m 19s\n"
          ],
          "name": "stdout"
        }
      ]
    },
    {
      "cell_type": "code",
      "metadata": {
        "colab": {
          "base_uri": "https://localhost:8080/",
          "height": 0
        },
        "id": "K5JVb6N-9Bb8",
        "outputId": "72b3e8f4-77e2-4544-acee-ef55752a223f"
      },
      "source": [
        "# predict (automated)\n",
        "for arr in X_List:\n",
        "\tx2 = np.reshape(arr, (1, len(arr), 1))\n",
        "\tx2 = x2 / float(len(alphabet))\n",
        "\tprediction2 = model2.predict(x2, verbose=0)\n",
        "\tindex2 = np.argmax(prediction2)\n",
        "\tresult2 = intalpha[index2]\n",
        "  #convert int to character\n",
        "\tseq_in2 = [intalpha[value] for value in arr]\n",
        "\tprint(seq_in2, \"->\", result2)"
      ],
      "id": "K5JVb6N-9Bb8",
      "execution_count": 9,
      "outputs": [
        {
          "output_type": "stream",
          "text": [
            "['A', 'B', 'C'] -> D\n",
            "['B', 'C', 'D'] -> E\n",
            "['C', 'D', 'E'] -> F\n",
            "['D', 'E', 'F'] -> G\n",
            "['E', 'F', 'G'] -> H\n",
            "['F', 'G', 'H'] -> I\n",
            "['G', 'H', 'I'] -> J\n",
            "['H', 'I', 'J'] -> K\n",
            "['I', 'J', 'K'] -> L\n",
            "['J', 'K', 'L'] -> M\n",
            "['K', 'L', 'M'] -> N\n",
            "['L', 'M', 'N'] -> O\n",
            "['M', 'N', 'O'] -> P\n",
            "['N', 'O', 'P'] -> Q\n",
            "['O', 'P', 'Q'] -> R\n",
            "['P', 'Q', 'R'] -> S\n",
            "['Q', 'R', 'S'] -> T\n",
            "['R', 'S', 'T'] -> U\n",
            "['S', 'T', 'U'] -> V\n",
            "['T', 'U', 'V'] -> V\n",
            "['U', 'V', 'W'] -> X\n",
            "['V', 'W', 'X'] -> Z\n",
            "['W', 'X', 'Y'] -> Z\n"
          ],
          "name": "stdout"
        }
      ]
    },
    {
      "cell_type": "code",
      "metadata": {
        "colab": {
          "base_uri": "https://localhost:8080/",
          "height": 0
        },
        "id": "KEEP0rmI9Bpo",
        "outputId": "9fdc099c-f30d-4a3a-8663-28e16aebc1cb"
      },
      "source": [
        "#predict (manual entry)\n",
        "dataentry = input('Enter three letters: ')\n",
        "#create array\n",
        "arr = list(dataentry)\n",
        "\n",
        "#lookup index\n",
        "ind = [alphaint[value] for value in arr]\n",
        "\n",
        "#reshape\n",
        "z = np.reshape(z, (1, seq_length, 1))\n",
        "z = z / float(len(alphabet))\n",
        "\n",
        "#predict\n",
        "predictionz = model2.predict(z, verbose=0)\n",
        "indexz = np.argmax(predictionz)\n",
        "resultz = intalpha[indexz]\n",
        "seq_inz = [intalpha[value] for value in ind]\n",
        "print(seq_inz, \"->\", resultz)"
      ],
      "id": "KEEP0rmI9Bpo",
      "execution_count": 10,
      "outputs": [
        {
          "output_type": "stream",
          "text": [
            "Enter three letters: MNO\n",
            "['M', 'N', 'O'] -> P\n"
          ],
          "name": "stdout"
        }
      ]
    },
    {
      "cell_type": "markdown",
      "metadata": {
        "id": "c5QGMiDbC5OH"
      },
      "source": [
        "#Experiment 3"
      ],
      "id": "c5QGMiDbC5OH"
    },
    {
      "cell_type": "code",
      "metadata": {
        "colab": {
          "base_uri": "https://localhost:8080/"
        },
        "id": "FJulKTdeC5gR",
        "outputId": "dbf68f7a-e68a-4db3-fa18-4a550ae2c1c0"
      },
      "source": [
        "# create and fit the model\n",
        "model3 = Sequential()\n",
        "model3.add(LSTM(16, input_shape=(X.shape[1], X.shape[2])))\n",
        "model3.add(Dense(y.shape[1], activation='softmax'))\n",
        "\n",
        "start_time3 = datetime.datetime.now()\n",
        "model3.compile(loss='categorical_crossentropy', optimizer='adam', metrics=['accuracy'])\n",
        "model3.fit(X, y, epochs=1000, batch_size=1, verbose=0)\n",
        "end_time3 = datetime.datetime.now()\n",
        "\n",
        "# accuracy\n",
        "scores3 = model3.evaluate(X, y, verbose=0)\n",
        "print(\"Training Accuracy: %.2f%%\" % (scores3[1]*100))\n",
        "\n",
        "# training time\n",
        "diff3 = end_time3 - start_time3\n",
        "diff_seconds3 = int(diff3.total_seconds())\n",
        "minute_seconds3, seconds3 = divmod(diff_seconds3, 60)\n",
        "hours3, minutes3 = divmod(minute_seconds3, 60)\n",
        "print(f\"{hours3}h {minutes3}m {seconds3}s\")"
      ],
      "id": "FJulKTdeC5gR",
      "execution_count": 15,
      "outputs": [
        {
          "output_type": "stream",
          "text": [
            "Training Accuracy: 100.00%\n",
            "0h 0m 37s\n"
          ],
          "name": "stdout"
        }
      ]
    },
    {
      "cell_type": "code",
      "metadata": {
        "colab": {
          "base_uri": "https://localhost:8080/"
        },
        "id": "Aw8yqdHiC5uX",
        "outputId": "0eba0789-49ae-4dc6-a977-ac3501c9fcd4"
      },
      "source": [
        "# predict (automated)\n",
        "for arr in X_List:\n",
        "\tx3 = np.reshape(arr, (1, len(arr), 1))\n",
        "\tx3 = x3 / float(len(alphabet))\n",
        " \n",
        "\tprediction3 = model3.predict(x3, verbose=0)\n",
        "\tindex3 = np.argmax(prediction3)\n",
        "\tresult3 = intalpha[index3]\n",
        "\n",
        "  #convert int to character\n",
        "\tseq_in3 = [intalpha[value] for value in arr]\n",
        "\tprint(seq_in3, \"->\", result3)"
      ],
      "id": "Aw8yqdHiC5uX",
      "execution_count": 16,
      "outputs": [
        {
          "output_type": "stream",
          "text": [
            "['A', 'B', 'C'] -> D\n",
            "['B', 'C', 'D'] -> E\n",
            "['C', 'D', 'E'] -> F\n",
            "['D', 'E', 'F'] -> G\n",
            "['E', 'F', 'G'] -> H\n",
            "['F', 'G', 'H'] -> I\n",
            "['G', 'H', 'I'] -> J\n",
            "['H', 'I', 'J'] -> K\n",
            "['I', 'J', 'K'] -> L\n",
            "['J', 'K', 'L'] -> M\n",
            "['K', 'L', 'M'] -> N\n",
            "['L', 'M', 'N'] -> O\n",
            "['M', 'N', 'O'] -> P\n",
            "['N', 'O', 'P'] -> Q\n",
            "['O', 'P', 'Q'] -> R\n",
            "['P', 'Q', 'R'] -> S\n",
            "['Q', 'R', 'S'] -> T\n",
            "['R', 'S', 'T'] -> U\n",
            "['S', 'T', 'U'] -> V\n",
            "['T', 'U', 'V'] -> W\n",
            "['U', 'V', 'W'] -> X\n",
            "['V', 'W', 'X'] -> Y\n",
            "['W', 'X', 'Y'] -> Z\n"
          ],
          "name": "stdout"
        }
      ]
    },
    {
      "cell_type": "code",
      "metadata": {
        "colab": {
          "base_uri": "https://localhost:8080/"
        },
        "id": "X8LcBVnwC57J",
        "outputId": "8e5d5283-1968-4ba8-b865-0ec21fe36643"
      },
      "source": [
        "#predict (manual entry)\n",
        "dataentry = input('Enter three letters: ')\n",
        "#create array\n",
        "arr = list(dataentry)\n",
        "\n",
        "#lookup index\n",
        "ind = [alphaint[value] for value in arr]\n",
        "\n",
        "#reshape\n",
        "q = np.reshape(q, (1, seq_length, 1))\n",
        "q = q / float(len(alphabet))\n",
        "\n",
        "#predict\n",
        "predictionq = model3.predict(q, verbose=0)\n",
        "indexq = np.argmax(predictionq)\n",
        "resultq = intalpha[indexq]\n",
        "seq_inq = [intalpha[value] for value in ind]\n",
        "print(seq_inq, \"->\", resultq)"
      ],
      "id": "X8LcBVnwC57J",
      "execution_count": 18,
      "outputs": [
        {
          "output_type": "stream",
          "text": [
            "Enter three letters: UVW\n",
            "['U', 'V', 'W'] -> X\n"
          ],
          "name": "stdout"
        }
      ]
    }
  ]
}